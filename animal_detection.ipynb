{
 "cells": [
  {
   "cell_type": "markdown",
   "id": "3d672531",
   "metadata": {},
   "source": [
    "# Animal detection"
   ]
  },
  {
   "cell_type": "markdown",
   "id": "d1446c62",
   "metadata": {},
   "source": [
    "### Introduction"
   ]
  },
  {
   "cell_type": "markdown",
   "id": "e656b071",
   "metadata": {},
   "source": [
    "### Imports and settings"
   ]
  },
  {
   "cell_type": "code",
   "execution_count": 2,
   "id": "d2b357c6",
   "metadata": {},
   "outputs": [],
   "source": [
    "# Standard Python libraries:\n",
    "import sys\n",
    "import time\n",
    "from typing import List, Dict, Any, Union\n",
    "import warnings\n",
    "\n",
    "# Data processing and modeling:\n",
    "import numpy as np\n",
    "\n",
    "# Settings:\n",
    "warnings.filterwarnings(\"ignore\")\n",
    "np.set_printoptions(threshold=sys.maxsize)"
   ]
  },
  {
   "cell_type": "code",
   "execution_count": null,
   "id": "b1323ff5",
   "metadata": {},
   "outputs": [],
   "source": []
  }
 ],
 "metadata": {
  "kernelspec": {
   "display_name": "py39-animals",
   "language": "python",
   "name": "py39-animals"
  },
  "language_info": {
   "codemirror_mode": {
    "name": "ipython",
    "version": 3
   },
   "file_extension": ".py",
   "mimetype": "text/x-python",
   "name": "python",
   "nbconvert_exporter": "python",
   "pygments_lexer": "ipython3",
   "version": "3.9.4"
  }
 },
 "nbformat": 4,
 "nbformat_minor": 5
}
